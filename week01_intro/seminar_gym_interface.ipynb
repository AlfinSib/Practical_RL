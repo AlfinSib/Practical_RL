{
  "cells": [
    {
      "cell_type": "code",
      "execution_count": 1,
      "metadata": {
        "id": "r8FRF46HkV8P",
        "outputId": "096bc265-7399-47fb-9795-817d113d8f82",
        "colab": {
          "base_uri": "https://localhost:8080/"
        }
      },
      "outputs": [
        {
          "output_type": "stream",
          "name": "stdout",
          "text": [
            "Selecting previously unselected package libfontenc1:amd64.\n",
            "(Reading database ... 122532 files and directories currently installed.)\n",
            "Preparing to unpack .../0-libfontenc1_1%3a1.1.4-0ubuntu1_amd64.deb ...\n",
            "Unpacking libfontenc1:amd64 (1:1.1.4-0ubuntu1) ...\n",
            "Selecting previously unselected package libxfont2:amd64.\n",
            "Preparing to unpack .../1-libxfont2_1%3a2.0.3-1_amd64.deb ...\n",
            "Unpacking libxfont2:amd64 (1:2.0.3-1) ...\n",
            "Selecting previously unselected package libxkbfile1:amd64.\n",
            "Preparing to unpack .../2-libxkbfile1_1%3a1.1.0-1_amd64.deb ...\n",
            "Unpacking libxkbfile1:amd64 (1:1.1.0-1) ...\n",
            "Selecting previously unselected package x11-xkb-utils.\n",
            "Preparing to unpack .../3-x11-xkb-utils_7.7+5_amd64.deb ...\n",
            "Unpacking x11-xkb-utils (7.7+5) ...\n",
            "Selecting previously unselected package xfonts-encodings.\n",
            "Preparing to unpack .../4-xfonts-encodings_1%3a1.0.5-0ubuntu1_all.deb ...\n",
            "Unpacking xfonts-encodings (1:1.0.5-0ubuntu1) ...\n",
            "Selecting previously unselected package xfonts-utils.\n",
            "Preparing to unpack .../5-xfonts-utils_1%3a7.7+6_amd64.deb ...\n",
            "Unpacking xfonts-utils (1:7.7+6) ...\n",
            "Selecting previously unselected package xfonts-base.\n",
            "Preparing to unpack .../6-xfonts-base_1%3a1.0.5_all.deb ...\n",
            "Unpacking xfonts-base (1:1.0.5) ...\n",
            "Selecting previously unselected package xserver-common.\n",
            "Preparing to unpack .../7-xserver-common_2%3a1.20.13-1ubuntu1~20.04.8_all.deb ...\n",
            "Unpacking xserver-common (2:1.20.13-1ubuntu1~20.04.8) ...\n",
            "Selecting previously unselected package xvfb.\n",
            "Preparing to unpack .../8-xvfb_2%3a1.20.13-1ubuntu1~20.04.8_amd64.deb ...\n",
            "Unpacking xvfb (2:1.20.13-1ubuntu1~20.04.8) ...\n",
            "Setting up libfontenc1:amd64 (1:1.1.4-0ubuntu1) ...\n",
            "Setting up xfonts-encodings (1:1.0.5-0ubuntu1) ...\n",
            "Setting up libxkbfile1:amd64 (1:1.1.0-1) ...\n",
            "Setting up libxfont2:amd64 (1:2.0.3-1) ...\n",
            "Setting up x11-xkb-utils (7.7+5) ...\n",
            "Setting up xfonts-utils (1:7.7+6) ...\n",
            "Setting up xfonts-base (1:1.0.5) ...\n",
            "Setting up xserver-common (2:1.20.13-1ubuntu1~20.04.8) ...\n",
            "Setting up xvfb (2:1.20.13-1ubuntu1~20.04.8) ...\n",
            "Processing triggers for man-db (2.9.1-1) ...\n",
            "Processing triggers for fontconfig (2.13.1-2ubuntu3) ...\n",
            "Processing triggers for libc-bin (2.31-0ubuntu9.9) ...\n",
            "Starting virtual X frame buffer: Xvfb.\n"
          ]
        }
      ],
      "source": [
        "import sys, os\n",
        "if 'google.colab' in sys.modules and not os.path.exists('.setup_complete'):\n",
        "    !wget -q https://raw.githubusercontent.com/yandexdataschool/Practical_RL/master/setup_colab.sh -O- | bash\n",
        "\n",
        "    !touch .setup_complete\n",
        "\n",
        "# This code creates a virtual display to draw game images on.\n",
        "# It will have no effect if your machine has a monitor.\n",
        "if type(os.environ.get(\"DISPLAY\")) is not str or len(os.environ.get(\"DISPLAY\")) == 0:\n",
        "    !bash ../xvfb start\n",
        "    os.environ['DISPLAY'] = ':1'"
      ]
    },
    {
      "cell_type": "code",
      "execution_count": 2,
      "metadata": {
        "id": "d2XfwODUkV8R"
      },
      "outputs": [],
      "source": [
        "import numpy as np\n",
        "import matplotlib.pyplot as plt\n",
        "%matplotlib inline"
      ]
    },
    {
      "cell_type": "markdown",
      "metadata": {
        "id": "6uispERukV8S"
      },
      "source": [
        "### OpenAI Gym\n",
        "\n",
        "We're gonna spend several next weeks learning algorithms that solve decision processes. We are then in need of some interesting decision problems to test our algorithms.\n",
        "\n",
        "That's where OpenAI Gym comes into play. It's a Python library that wraps many classical decision problems including robot control, videogames and board games.\n",
        "\n",
        "So here's how it works:"
      ]
    },
    {
      "cell_type": "code",
      "execution_count": 3,
      "metadata": {
        "id": "bdLyj1ivkV8T",
        "outputId": "186199d1-697a-40d2-b904-6dab6e93a4fc",
        "colab": {
          "base_uri": "https://localhost:8080/",
          "height": 578
        }
      },
      "outputs": [
        {
          "output_type": "stream",
          "name": "stderr",
          "text": [
            "/usr/local/lib/python3.10/dist-packages/gym/core.py:317: DeprecationWarning: \u001b[33mWARN: Initializing wrapper in old step API which returns one bool instead of two. It is recommended to set `new_step_api=True` to use new step API. This will be the default behaviour in future.\u001b[0m\n",
            "  deprecation(\n",
            "/usr/local/lib/python3.10/dist-packages/gym/wrappers/step_api_compatibility.py:39: DeprecationWarning: \u001b[33mWARN: Initializing environment in old step API which returns one bool instead of two. It is recommended to set `new_step_api=True` to use new step API. This will be the default behaviour in future.\u001b[0m\n",
            "  deprecation(\n",
            "/usr/local/lib/python3.10/dist-packages/gym/core.py:43: DeprecationWarning: \u001b[33mWARN: The argument mode in render method is deprecated; use render_mode during environment initialization instead.\n",
            "See here for more information: https://www.gymlibrary.ml/content/api/\u001b[0m\n",
            "  deprecation(\n"
          ]
        },
        {
          "output_type": "stream",
          "name": "stdout",
          "text": [
            "Observation space: Box([-1.2  -0.07], [0.6  0.07], (2,), float32)\n",
            "Action space: Discrete(3)\n"
          ]
        },
        {
          "output_type": "display_data",
          "data": {
            "text/plain": [
              "<Figure size 640x480 with 1 Axes>"
            ],
            "image/png": "[encoded data removed]"
          },
          "metadata": {}
        }
      ],
      "source": [
        "import gym\n",
        "\n",
        "env = gym.make(\"MountainCar-v0\")\n",
        "env.reset()\n",
        "\n",
        "plt.imshow(env.render('rgb_array'))\n",
        "print(\"Observation space:\", env.observation_space)\n",
        "print(\"Action space:\", env.action_space)"
      ]
    },
    {
      "cell_type": "markdown",
      "metadata": {
        "id": "61tKTxDPkV8T"
      },
      "source": [
        "Note: if you're running this on your local machine, you'll see a window pop up with the image above. Don't close it, just alt-tab away."
      ]
    },
    {
      "cell_type": "markdown",
      "metadata": {
        "id": "IOoZlYHFkV8T"
      },
      "source": [
        "### Gym interface\n",
        "\n",
        "The three main methods of an environment are\n",
        "* `reset()`: reset environment to the initial state, _return first observation_\n",
        "* `render()`: show current environment state (a more colorful version :) )\n",
        "* `step(a)`: commit action `a` and return `(new_observation, reward, is_done, info)`\n",
        " * `new_observation`: an observation right after committing the action `a`\n",
        " * `reward`: a number representing your reward for committing action `a`\n",
        " * `is_done`: True if the MDP has just finished, False if still in progress\n",
        " * `info`: some auxiliary stuff about what just happened. For now, ignore it."
      ]
    },
    {
      "cell_type": "code",
      "execution_count": 16,
      "metadata": {
        "id": "_h0maf4VkV8U",
        "outputId": "4e7a74fa-8c79-4b6a-d3ea-e437f5524b0d",
        "colab": {
          "base_uri": "https://localhost:8080/"
        }
      },
      "outputs": [
        {
          "output_type": "stream",
          "name": "stdout",
          "text": [
            "initial observation code: [-0.47642803  0.        ]\n"
          ]
        }
      ],
      "source": [
        "obs0 = env.reset()\n",
        "print(\"initial observation code:\", obs0)\n",
        "\n",
        "# Note: in MountainCar, observation is just two numbers: car position and velocity"
      ]
    },
    {
      "cell_type": "code",
      "execution_count": 17,
      "metadata": {
        "id": "YAXnDYfykV8U",
        "outputId": "15daddb6-a5ea-49f6-9d56-6a15c607a5bb",
        "colab": {
          "base_uri": "https://localhost:8080/"
        }
      },
      "outputs": [
        {
          "output_type": "stream",
          "name": "stdout",
          "text": [
            "taking action 2 (right)\n",
            "new observation code: [-0.47578064  0.0006474 ]\n",
            "reward: -1.0\n",
            "is game over?: False\n"
          ]
        }
      ],
      "source": [
        "print(\"taking action 2 (right)\")\n",
        "new_obs, reward, is_done, _ = env.step(2)\n",
        "\n",
        "print(\"new observation code:\", new_obs)\n",
        "print(\"reward:\", reward)\n",
        "print(\"is game over?:\", is_done)\n",
        "\n",
        "# Note: as you can see, the car has moved to the right slightly (around 0.0005)"
      ]
    },
    {
      "cell_type": "markdown",
      "metadata": {
        "id": "dMFvYs04kV8U"
      },
      "source": [
        "### Play with it\n",
        "\n",
        "Below is the code that drives the car to the right. However, if you simply use the default policy, the car will not reach the flag at the far right due to gravity.\n",
        "\n",
        "__Your task__ is to fix it. Find a strategy that reaches the flag. \n",
        "\n",
        "You are not required to build any sophisticated algorithms for now, and you definitely don't need to know any reinforcement learning for this. Feel free to hard-code :)"
      ]
    },
    {
      "cell_type": "code",
      "execution_count": 18,
      "metadata": {
        "id": "mqWQFeFbkV8U",
        "outputId": "a45abd75-78c0-4aea-f13a-54730d04c35e",
        "colab": {
          "base_uri": "https://localhost:8080/"
        }
      },
      "outputs": [
        {
          "output_type": "stream",
          "name": "stderr",
          "text": [
            "/usr/local/lib/python3.10/dist-packages/gym/core.py:317: DeprecationWarning: \u001b[33mWARN: Initializing wrapper in old step API which returns one bool instead of two. It is recommended to set `new_step_api=True` to use new step API. This will be the default behaviour in future.\u001b[0m\n",
            "  deprecation(\n"
          ]
        }
      ],
      "source": [
        "from IPython import display\n",
        "\n",
        "# Create env manually to set time limit. Please don't change this.\n",
        "TIME_LIMIT = 250\n",
        "env = gym.wrappers.TimeLimit(\n",
        "    gym.envs.classic_control.MountainCarEnv(),\n",
        "    max_episode_steps=TIME_LIMIT + 1,\n",
        ")\n",
        "actions = {'left': 0, 'stop': 1, 'right': 2}"
      ]
    },
    {
      "cell_type": "code",
      "execution_count": 23,
      "metadata": {
        "id": "8F6A39tIkV8V"
      },
      "outputs": [],
      "source": [
        "def policy(obs, t):\n",
        "    # Write the code for your policy here. You can use the observation\n",
        "    # (a tuple of position and velocity), the current time step, or both,\n",
        "    # if you want.\n",
        "    if t <= 40:\n",
        "      action = actions['left']\n",
        "    else:\n",
        "      action = actions['right']\n",
        "    # This is an example policy. You can try running it, but it will not work.\n",
        "    # Your goal is to fix that. You don't need anything sophisticated here,\n",
        "    # and you can hard-code any policy that seems to work.\n",
        "    # Hint: think how you would make a swing go farther and faster.\n",
        "    return action"
      ]
    },
    {
      "cell_type": "code",
      "execution_count": 24,
      "metadata": {
        "id": "ylrzLUVskV8V",
        "outputId": "2d965752-45eb-4be4-e081-5d05d793627e",
        "colab": {
          "base_uri": "https://localhost:8080/",
          "height": 272
        }
      },
      "outputs": [
        {
          "output_type": "display_data",
          "data": {
            "text/plain": [
              "<Figure size 400x300 with 1 Axes>"
            ],
            "image/png": "[encoded data removed]"
          },
          "metadata": {}
        }
      ],
      "source": [
        "plt.figure(figsize=(4, 3))\n",
        "display.clear_output(wait=True)\n",
        "\n",
        "obs = env.reset()\n",
        "for t in range(TIME_LIMIT):\n",
        "    plt.gca().clear()\n",
        "    \n",
        "    action = policy(obs, t)  # Call your policy\n",
        "    obs, reward, done, _ = env.step(action)  # Pass the action chosen by the policy to the environment\n",
        "    \n",
        "    # We don't do anything with reward here because MountainCar is a very simple environment,\n",
        "    # and reward is a constant -1. Therefore, your goal is to end the episode as quickly as possible.\n",
        "\n",
        "    # Draw game image on display.\n",
        "    plt.imshow(env.render('rgb_array'))\n",
        "    \n",
        "    display.display(plt.gcf())\n",
        "    display.clear_output(wait=True)\n",
        "\n",
        "    if done:\n",
        "        print(\"Well done!\")\n",
        "        break\n",
        "else:\n",
        "    print(\"Time limit exceeded. Try again.\")\n",
        "\n",
        "display.clear_output(wait=True)"
      ]
    },
    {
      "cell_type": "code",
      "execution_count": 25,
      "metadata": {
        "id": "wYdCVcLWkV8V",
        "outputId": "af7be973-ecf2-4763-91e7-f20282a771a3",
        "colab": {
          "base_uri": "https://localhost:8080/"
        }
      },
      "outputs": [
        {
          "output_type": "stream",
          "name": "stdout",
          "text": [
            "You solved it!\n"
          ]
        }
      ],
      "source": [
        "assert obs[0] > 0.47\n",
        "print(\"You solved it!\")"
      ]
    },
    {
      "cell_type": "code",
      "source": [
        "# Github Upload\n",
        "\n"
      ],
      "metadata": {
        "id": "MY2gt9F0p2Tn"
      },
      "execution_count": null,
      "outputs": []
    }
  ],
  "metadata": {
    "language_info": {
      "name": "python"
    },
    "colab": {
      "provenance": []
    },
    "kernelspec": {
      "name": "python3",
      "display_name": "Python 3"
    },
    "gpuClass": "standard"
  },
  "nbformat": 4,
  "nbformat_minor": 0
}