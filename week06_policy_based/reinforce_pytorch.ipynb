{
  "cells": [
    {
      "cell_type": "markdown",
      "metadata": {
        "id": "l6RN8kaXOOWk"
      },
      "source": [
        "# REINFORCE in PyTorch\n",
        "\n",
        "Just like we did before for Q-learning, this time we'll design a PyTorch network to learn `CartPole-v0` via policy gradient (REINFORCE).\n",
        "\n",
        "Most of the code in this notebook is taken from approximate Q-learning, so you'll find it more or less familiar and even simpler."
      ]
    },
    {
      "cell_type": "code",
      "execution_count": 194,
      "metadata": {
        "id": "lSk6KioAOOWl"
      },
      "outputs": [],
      "source": [
        "import sys, os\n",
        "if 'google.colab' in sys.modules and not os.path.exists('.setup_complete'):\n",
        "    !wget -q https://raw.githubusercontent.com/yandexdataschool/Practical_RL/master/setup_colab.sh -O- | bash\n",
        "    !pip install -q gym[classic_control]==0.26.0\n",
        "    !pip install moviepy\n",
        "    !apt install ffmpeg\n",
        "    !pip install imageio-ffmpeg\n",
        "    !touch .setup_complete\n",
        "\n",
        "# This code creates a virtual display to draw game images on.\n",
        "# It will have no effect if your machine has a monitor.\n",
        "if type(os.environ.get(\"DISPLAY\")) is not str or len(os.environ.get(\"DISPLAY\")) == 0:\n",
        "    !bash ../xvfb start\n",
        "    os.environ['DISPLAY'] = ':1'"
      ]
    },
    {
      "cell_type": "code",
      "execution_count": 195,
      "metadata": {
        "id": "AcZnHF8fOOWm",
        "outputId": "98e3350c-1dbd-45fc-fd9d-561307f90557",
        "colab": {
          "base_uri": "https://localhost:8080/"
        }
      },
      "outputs": [
        {
          "output_type": "stream",
          "name": "stdout",
          "text": [
            "gym version: 0.26.0\n"
          ]
        }
      ],
      "source": [
        "import gym\n",
        "print(f'gym version: {gym.__version__}')\n",
        "assert tuple(map(int, gym.__version__.split('.')))[:2] >= (0, 26)\n",
        "import numpy as np\n",
        "import matplotlib.pyplot as plt\n",
        "%matplotlib inline"
      ]
    },
    {
      "cell_type": "code",
      "execution_count": 196,
      "metadata": {
        "id": "7ieiAO7jOOWm"
      },
      "outputs": [],
      "source": [
        "# also you need to install ffmpeg if not installed\n",
        "# for MacOS: ! brew install ffmpeg"
      ]
    },
    {
      "cell_type": "markdown",
      "metadata": {
        "id": "lSIo80PdOOWm"
      },
      "source": [
        "A caveat: with some versions of `pyglet`, the following cell may crash with `NameError: name 'base' is not defined`. The corresponding bug report is [here](https://github.com/pyglet/pyglet/issues/134). If you see this error, try restarting the kernel."
      ]
    },
    {
      "cell_type": "code",
      "execution_count": 197,
      "metadata": {
        "id": "YNaVRro7OOWm",
        "outputId": "080ac122-b1b8-48ef-ce66-af5a642b74d4",
        "colab": {
          "base_uri": "https://localhost:8080/",
          "height": 414
        }
      },
      "outputs": [
        {
          "output_type": "stream",
          "name": "stdout",
          "text": [
            "(4,)\n"
          ]
        },
        {
          "output_type": "display_data",
          "data": {
            "text/plain": [
              "<Figure size 640x480 with 1 Axes>"
            ],
            "image/png": "[encoded data removed]"
          },
          "metadata": {}
        }
      ],
      "source": [
        "env = gym.make(\"CartPole-v0\", render_mode = \"rgb_array\")\n",
        "\n",
        "# gym compatibility: unwrap TimeLimit\n",
        "if hasattr(env, '_max_episode_steps'):\n",
        "    env = env.env\n",
        "\n",
        "env.reset()\n",
        "n_actions = env.action_space.n\n",
        "state_dim = env.observation_space.shape\n",
        "\n",
        "plt.imshow(env.render())\n",
        "print(state_dim)"
      ]
    },
    {
      "cell_type": "markdown",
      "metadata": {
        "id": "MJQSRy67OOWn"
      },
      "source": [
        "# Building the network for REINFORCE"
      ]
    },
    {
      "cell_type": "markdown",
      "metadata": {
        "id": "192oVneYOOWn"
      },
      "source": [
        "For REINFORCE algorithm, we'll need a model that predicts action probabilities given states.\n",
        "\n",
        "For numerical stability, please __do not include the softmax layer into your network architecture__.\n",
        "We'll use softmax or log-softmax where appropriate."
      ]
    },
    {
      "cell_type": "code",
      "execution_count": 198,
      "metadata": {
        "id": "pV9iNlJHOOWn"
      },
      "outputs": [],
      "source": [
        "import torch\n",
        "import torch.nn as nn"
      ]
    },
    {
      "cell_type": "code",
      "execution_count": 199,
      "metadata": {
        "id": "tjytD8z1OOWn"
      },
      "outputs": [],
      "source": [
        "# Build a simple neural network that predicts policy logits. \n",
        "# Keep it simple: CartPole isn't worth deep architectures.\n",
        "model = nn.Sequential(\n",
        "  nn.Linear(state_dim[0], 128),\n",
        "  nn.ReLU(),\n",
        "  nn.Linear(128, 64),\n",
        "  nn.ReLU(),\n",
        "  nn.Linear(64, n_actions)\n",
        ")"
      ]
    },
    {
      "cell_type": "markdown",
      "metadata": {
        "id": "VZwsNbNxOOWn"
      },
      "source": [
        "#### Predict function"
      ]
    },
    {
      "cell_type": "markdown",
      "metadata": {
        "id": "5dzCR7QEOOWn"
      },
      "source": [
        "Note: output value of this function is not a torch tensor, it's a numpy array.\n",
        "So, here gradient calculation is not needed.\n",
        "<br>\n",
        "Use [no_grad](https://pytorch.org/docs/stable/autograd.html#torch.autograd.no_grad)\n",
        "to suppress gradient calculation.\n",
        "<br>\n",
        "Also, `.detach()` (or legacy `.data` property) can be used instead, but there is a difference:\n",
        "<br>\n",
        "With `.detach()` computational graph is built but then disconnected from a particular tensor,\n",
        "so `.detach()` should be used if that graph is needed for backprop via some other (not detached) tensor;\n",
        "<br>\n",
        "In contrast, no graph is built by any operation in `no_grad()` context, thus it's preferable here."
      ]
    },
    {
      "cell_type": "code",
      "execution_count": 200,
      "metadata": {
        "id": "VemnertqOOWn"
      },
      "outputs": [],
      "source": [
        "def predict_probs(states):\n",
        "    \"\"\" \n",
        "    Predict action probabilities given states.\n",
        "    :param states: numpy array of shape [batch, state_shape]\n",
        "    :returns: numpy array of shape [batch, n_actions]\n",
        "    \"\"\"\n",
        "    # convert states, compute logits, use softmax to get probability\n",
        "    logits = model(torch.FloatTensor(states))\n",
        "    softmax = nn.Softmax(dim = 1)\n",
        "    action_probs_tensor = softmax(logits)\n",
        "    action_probs = action_probs_tensor.detach().numpy()\n",
        "    return action_probs"
      ]
    },
    {
      "cell_type": "code",
      "execution_count": 201,
      "metadata": {
        "id": "NJQdvigUOOWn"
      },
      "outputs": [],
      "source": [
        "test_states = np.array([env.reset()[0] for _ in range(5)])\n",
        "test_probas = predict_probs(test_states)\n",
        "assert isinstance(test_probas, np.ndarray), \\\n",
        "    \"you must return np array and not %s\" % type(test_probas)\n",
        "assert tuple(test_probas.shape) == (test_states.shape[0], env.action_space.n), \\\n",
        "    \"wrong output shape: %s\" % np.shape(test_probas)\n",
        "assert np.allclose(np.sum(test_probas, axis=1), 1), \"probabilities do not sum to 1\""
      ]
    },
    {
      "cell_type": "markdown",
      "metadata": {
        "id": "xnhp7SFnOOWn"
      },
      "source": [
        "### Play the game\n",
        "\n",
        "We can now use our newly built agent to play the game."
      ]
    },
    {
      "cell_type": "code",
      "execution_count": 202,
      "metadata": {
        "id": "z_hUi18yOOWn"
      },
      "outputs": [],
      "source": [
        "def generate_session(env, t_max=1000, video_file = None):\n",
        "    \"\"\" \n",
        "    Play a full session with REINFORCE agent.\n",
        "    Returns sequences of states, actions, and rewards.\n",
        "    \"\"\"\n",
        "    # arrays to record session\n",
        "    states, actions, rewards = [], [], []\n",
        "    \n",
        "    s = env.reset()[0]\n",
        "    \n",
        "    if video_file is not None:\n",
        "        video = VideoRecorder(env, video_file)\n",
        "\n",
        "    for t in range(t_max):\n",
        "        # action probabilities array aka pi(a|s)\n",
        "        action_probs = predict_probs(np.array([s]))[0]\n",
        "\n",
        "        # Sample action with given probabilities.\n",
        "        a = np.random.choice(n_actions, p = action_probs)\n",
        "        \n",
        "        if video_file is not None:\n",
        "            env.render()\n",
        "            video.capture_frame()\n",
        "    \n",
        "        new_s, r, done, truncated, info = env.step(a)\n",
        "\n",
        "        # record session history to train later\n",
        "        states.append(s)\n",
        "        actions.append(a)\n",
        "        rewards.append(r)\n",
        "\n",
        "        s = new_s\n",
        "        if done:\n",
        "            break\n",
        "    \n",
        "    if video_file is not None:\n",
        "        video.close()\n",
        "\n",
        "    return states, actions, rewards"
      ]
    },
    {
      "cell_type": "code",
      "execution_count": 203,
      "metadata": {
        "id": "BT_ckW_4OOWo"
      },
      "outputs": [],
      "source": [
        "# test it\n",
        "states, actions, rewards = generate_session(env)"
      ]
    },
    {
      "cell_type": "markdown",
      "metadata": {
        "id": "ev9uFxoDOOWo"
      },
      "source": [
        "### Computing cumulative rewards\n",
        "\n",
        "$$\n",
        "\\begin{align*}\n",
        "G_t &= r_t + \\gamma r_{t + 1} + \\gamma^2 r_{t + 2} + \\ldots \\\\\n",
        "&= \\sum_{i = t}^T \\gamma^{i - t} r_i \\\\\n",
        "&= r_t + \\gamma * G_{t + 1}\n",
        "\\end{align*}\n",
        "$$"
      ]
    },
    {
      "cell_type": "code",
      "execution_count": 204,
      "metadata": {
        "id": "8PCdASt8OOWo"
      },
      "outputs": [],
      "source": [
        "def get_cumulative_rewards(rewards,  # rewards at each step\n",
        "                           gamma=0.99  # discount for reward\n",
        "                           ):\n",
        "    \"\"\"\n",
        "    Take a list of immediate rewards r(s,a) for the whole session \n",
        "    and compute cumulative returns (a.k.a. G(s,a) in Sutton '16).\n",
        "    \n",
        "    G_t = r_t + gamma*r_{t+1} + gamma^2*r_{t+2} + ...\n",
        "\n",
        "    A simple way to compute cumulative rewards is to iterate from the last\n",
        "    to the first timestep and compute G_t = r_t + gamma*G_{t+1} recurrently\n",
        "\n",
        "    You must return an array/list of cumulative rewards with as many elements as in the initial rewards.\n",
        "    \"\"\"\n",
        "    cummulative_rewards = np.zeros(len(rewards))\n",
        "    for i in range(0, len(rewards)):\n",
        "      gamma_arr = np.array([(gamma ** j) for j in range(0, len(rewards) - i)])\n",
        "      rewards_arr = np.array(rewards[i:])\n",
        "      cummulative_rewards[i] = np.dot(rewards_arr, gamma_arr)\n",
        "    return cummulative_rewards"
      ]
    },
    {
      "cell_type": "code",
      "execution_count": 205,
      "metadata": {
        "id": "6Vy6qikYOOWo",
        "outputId": "799f2f07-4493-404d-ead1-03ed08b07f30",
        "colab": {
          "base_uri": "https://localhost:8080/"
        }
      },
      "outputs": [
        {
          "output_type": "stream",
          "name": "stdout",
          "text": [
            "looks good!\n"
          ]
        }
      ],
      "source": [
        "get_cumulative_rewards(rewards)\n",
        "assert len(get_cumulative_rewards(list(range(100)))) == 100\n",
        "assert np.allclose(\n",
        "    get_cumulative_rewards([0, 0, 1, 0, 0, 1, 0], gamma=0.9),\n",
        "    [1.40049, 1.5561, 1.729, 0.81, 0.9, 1.0, 0.0])\n",
        "assert np.allclose(\n",
        "    get_cumulative_rewards([0, 0, 1, -2, 3, -4, 0], gamma=0.5),\n",
        "    [0.0625, 0.125, 0.25, -1.5, 1.0, -4.0, 0.0])\n",
        "assert np.allclose(\n",
        "    get_cumulative_rewards([0, 0, 1, 2, 3, 4, 0], gamma=0),\n",
        "    [0, 0, 1, 2, 3, 4, 0])\n",
        "print(\"looks good!\")"
      ]
    },
    {
      "cell_type": "markdown",
      "metadata": {
        "id": "76bDuhpkOOWo"
      },
      "source": [
        "#### Loss function and updates\n",
        "\n",
        "We now need to define objective and update over policy gradient.\n",
        "\n",
        "Our objective function is\n",
        "\n",
        "$$ J \\approx  { 1 \\over N } \\sum_{s_i,a_i} G(s_i,a_i) $$\n",
        "\n",
        "REINFORCE defines a way to compute the gradient of the expected reward with respect to policy parameters. The formula is as follows:\n",
        "\n",
        "$$ \\nabla_\\theta \\hat J(\\theta) \\approx { 1 \\over N } \\sum_{s_i, a_i} \\nabla_\\theta \\log \\pi_\\theta (a_i \\mid s_i) \\cdot G_t(s_i, a_i) $$\n",
        "\n",
        "We can abuse PyTorch's capabilities for automatic differentiation by defining our objective function as follows:\n",
        "\n",
        "$$ \\hat J(\\theta) \\approx { 1 \\over N } \\sum_{s_i, a_i} \\log \\pi_\\theta (a_i \\mid s_i) \\cdot G_t(s_i, a_i) $$\n",
        "\n",
        "When you compute the gradient of that function with respect to network weights $\\theta$, it will become exactly the policy gradient."
      ]
    },
    {
      "cell_type": "code",
      "execution_count": 206,
      "metadata": {
        "id": "BcTEZcg7OOWo"
      },
      "outputs": [],
      "source": [
        "def to_one_hot(y_tensor, ndims):\n",
        "    \"\"\" helper: take an integer vector and convert it to 1-hot matrix. \"\"\"\n",
        "    y_tensor = y_tensor.type(torch.LongTensor).view(-1, 1)\n",
        "    y_one_hot = torch.zeros(\n",
        "        y_tensor.size()[0], ndims).scatter_(1, y_tensor, 1)\n",
        "    return y_one_hot"
      ]
    },
    {
      "cell_type": "code",
      "execution_count": 207,
      "metadata": {
        "id": "qOCKDWzrOOWo"
      },
      "outputs": [],
      "source": [
        "# Your code: define optimizers\n",
        "optimizer = torch.optim.Adam(model.parameters(), 1e-3)\n",
        "\n",
        "\n",
        "def train_on_session(states, actions, rewards, gamma=0.99, entropy_coef=1e-2):\n",
        "    \"\"\"\n",
        "    Takes a sequence of states, actions and rewards produced by generate_session.\n",
        "    Updates agent's weights by following the policy gradient above.\n",
        "    Please use Adam optimizer with default parameters.\n",
        "    \"\"\"\n",
        "\n",
        "    # cast everything into torch tensors\n",
        "    states = torch.tensor(states, dtype=torch.float32)\n",
        "    actions = torch.tensor(actions, dtype=torch.int32)\n",
        "    cumulative_returns = np.array(get_cumulative_rewards(rewards, gamma))\n",
        "    cumulative_returns = torch.tensor(cumulative_returns, dtype=torch.float32)\n",
        "\n",
        "    # predict logits, probas and log-probas using an agent.\n",
        "    logits = model(states)\n",
        "    probs = nn.functional.softmax(logits, -1)\n",
        "    log_probs = nn.functional.log_softmax(logits, -1)\n",
        "\n",
        "    assert all(isinstance(v, torch.Tensor) for v in [logits, probs, log_probs]), \\\n",
        "        \"please use compute using torch tensors and don't use predict_probs function\"\n",
        "\n",
        "    # select log-probabilities for chosen actions, log pi(a_i|s_i)\n",
        "    log_probs_for_actions = torch.sum(\n",
        "        log_probs * to_one_hot(actions, env.action_space.n), dim=1)\n",
        "   \n",
        "    # Compute loss here. Don't forgen entropy regularization with `entropy_coef` \n",
        "    objective = (log_probs_for_actions * cumulative_returns).sum().mean()\n",
        "    entropy = -(probs * log_probs).mean()\n",
        "    loss = -objective - entropy_coef * entropy\n",
        "\n",
        "    # Gradient descent step\n",
        "    optimizer.zero_grad()\n",
        "    loss.backward()\n",
        "    optimizer.step()\n",
        "\n",
        "\n",
        "    # technical: return session rewards to print them later\n",
        "    return np.sum(rewards)"
      ]
    },
    {
      "cell_type": "markdown",
      "metadata": {
        "id": "5fDtdAisOOWo"
      },
      "source": [
        "### The actual training"
      ]
    },
    {
      "cell_type": "code",
      "execution_count": 208,
      "metadata": {
        "id": "OGiGAMeoOOWo",
        "outputId": "1871cc91-ee5b-48d1-a14a-6d92d9d00c27",
        "colab": {
          "base_uri": "https://localhost:8080/"
        }
      },
      "outputs": [
        {
          "output_type": "stream",
          "name": "stdout",
          "text": [
            "mean reward:50.530\n",
            "mean reward:134.140\n",
            "mean reward:134.660\n",
            "mean reward:109.040\n",
            "mean reward:228.570\n",
            "mean reward:205.330\n",
            "mean reward:304.500\n",
            "mean reward:163.910\n",
            "mean reward:116.230\n",
            "mean reward:121.020\n",
            "mean reward:596.440\n",
            "You Win!\n"
          ]
        }
      ],
      "source": [
        "for i in range(100):\n",
        "    rewards = [train_on_session(*generate_session(env)) for _ in range(100)]  # generate new sessions\n",
        "    \n",
        "    print(\"mean reward:%.3f\" % (np.mean(rewards)))\n",
        "    \n",
        "    if np.mean(rewards) > 500:\n",
        "        print(\"You Win!\")  # but you can train even further\n",
        "        break"
      ]
    },
    {
      "cell_type": "markdown",
      "metadata": {
        "id": "0F4TpOcnOOWo"
      },
      "source": [
        "### Results & video"
      ]
    },
    {
      "cell_type": "code",
      "execution_count": 209,
      "metadata": {
        "id": "mpRyVHddOOWo",
        "outputId": "f567aa70-3dff-406d-8c88-2553db1d74f1",
        "colab": {
          "base_uri": "https://localhost:8080/"
        }
      },
      "outputs": [
        {
          "output_type": "stream",
          "name": "stdout",
          "text": [
            "Moviepy - Building video videos/CartPole_session_0.mp4.\n",
            "Moviepy - Writing video videos/CartPole_session_0.mp4\n",
            "\n"
          ]
        },
        {
          "output_type": "stream",
          "name": "stderr",
          "text": [
            "/usr/local/lib/python3.10/dist-packages/gym/envs/registration.py:555: UserWarning: \u001b[33mWARN: The environment CartPole-v0 is out of date. You should consider upgrading to version `v1`.\u001b[0m\n",
            "  logger.warn(\n"
          ]
        },
        {
          "output_type": "stream",
          "name": "stdout",
          "text": [
            "Moviepy - Done !\n",
            "Moviepy - video ready videos/CartPole_session_0.mp4\n",
            "Moviepy - Building video videos/CartPole_session_1.mp4.\n",
            "Moviepy - Writing video videos/CartPole_session_1.mp4\n",
            "\n"
          ]
        },
        {
          "output_type": "stream",
          "name": "stderr",
          "text": []
        },
        {
          "output_type": "stream",
          "name": "stdout",
          "text": [
            "Moviepy - Done !\n",
            "Moviepy - video ready videos/CartPole_session_1.mp4\n",
            "Moviepy - Building video videos/CartPole_session_2.mp4.\n",
            "Moviepy - Writing video videos/CartPole_session_2.mp4\n",
            "\n"
          ]
        },
        {
          "output_type": "stream",
          "name": "stderr",
          "text": []
        },
        {
          "output_type": "stream",
          "name": "stdout",
          "text": [
            "Moviepy - Done !\n",
            "Moviepy - video ready videos/CartPole_session_2.mp4\n",
            "Moviepy - Building video videos/CartPole_session_3.mp4.\n",
            "Moviepy - Writing video videos/CartPole_session_3.mp4\n",
            "\n"
          ]
        },
        {
          "output_type": "stream",
          "name": "stderr",
          "text": []
        },
        {
          "output_type": "stream",
          "name": "stdout",
          "text": [
            "Moviepy - Done !\n",
            "Moviepy - video ready videos/CartPole_session_3.mp4\n",
            "Moviepy - Building video videos/CartPole_session_4.mp4.\n",
            "Moviepy - Writing video videos/CartPole_session_4.mp4\n",
            "\n"
          ]
        },
        {
          "output_type": "stream",
          "name": "stderr",
          "text": []
        },
        {
          "output_type": "stream",
          "name": "stdout",
          "text": [
            "Moviepy - Done !\n",
            "Moviepy - video ready videos/CartPole_session_4.mp4\n",
            "Moviepy - Building video videos/CartPole_session_5.mp4.\n",
            "Moviepy - Writing video videos/CartPole_session_5.mp4\n",
            "\n"
          ]
        },
        {
          "output_type": "stream",
          "name": "stderr",
          "text": []
        },
        {
          "output_type": "stream",
          "name": "stdout",
          "text": [
            "Moviepy - Done !\n",
            "Moviepy - video ready videos/CartPole_session_5.mp4\n",
            "Moviepy - Building video videos/CartPole_session_6.mp4.\n",
            "Moviepy - Writing video videos/CartPole_session_6.mp4\n",
            "\n"
          ]
        },
        {
          "output_type": "stream",
          "name": "stderr",
          "text": []
        },
        {
          "output_type": "stream",
          "name": "stdout",
          "text": [
            "Moviepy - Done !\n",
            "Moviepy - video ready videos/CartPole_session_6.mp4\n",
            "Moviepy - Building video videos/CartPole_session_7.mp4.\n",
            "Moviepy - Writing video videos/CartPole_session_7.mp4\n",
            "\n"
          ]
        },
        {
          "output_type": "stream",
          "name": "stderr",
          "text": []
        },
        {
          "output_type": "stream",
          "name": "stdout",
          "text": [
            "Moviepy - Done !\n",
            "Moviepy - video ready videos/CartPole_session_7.mp4\n",
            "Moviepy - Building video videos/CartPole_session_8.mp4.\n",
            "Moviepy - Writing video videos/CartPole_session_8.mp4\n",
            "\n"
          ]
        },
        {
          "output_type": "stream",
          "name": "stderr",
          "text": []
        },
        {
          "output_type": "stream",
          "name": "stdout",
          "text": [
            "Moviepy - Done !\n",
            "Moviepy - video ready videos/CartPole_session_8.mp4\n",
            "Moviepy - Building video videos/CartPole_session_9.mp4.\n",
            "Moviepy - Writing video videos/CartPole_session_9.mp4\n",
            "\n"
          ]
        },
        {
          "output_type": "stream",
          "name": "stderr",
          "text": []
        },
        {
          "output_type": "stream",
          "name": "stdout",
          "text": [
            "Moviepy - Done !\n",
            "Moviepy - video ready videos/CartPole_session_9.mp4\n"
          ]
        }
      ],
      "source": [
        "# Record sessions\n",
        "\n",
        "from gym.wrappers.monitoring.video_recorder import VideoRecorder\n",
        "    \n",
        "if not os.path.exists('videos'):\n",
        "    os.makedirs('videos')\n",
        "\n",
        "sessions = [generate_session(gym.make(\"CartPole-v0\", render_mode = \"rgb_array\"),\n",
        "                             video_file = f'videos/CartPole_session_{i}.mp4')\n",
        "            for i in range(10)]"
      ]
    },
    {
      "cell_type": "code",
      "execution_count": 210,
      "metadata": {
        "id": "c65pWYDLOOWo",
        "outputId": "546ef247-ea2b-4618-99d0-01affa534230",
        "colab": {
          "base_uri": "https://localhost:8080/",
          "height": 500
        }
      },
      "outputs": [
        {
          "output_type": "execute_result",
          "data": {
            "text/plain": [
              "<IPython.core.display.HTML object>"
            ],
            "text/html": [
              "\n",
              "<video width=\"640\" height=\"480\" controls>\n",
              "  <source src=\"data:video/mp4;base64,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\" type=\"video/mp4\">\n",
              "</video>\n"
            ]
          },
          "metadata": {},
          "execution_count": 210
        }
      ],
      "source": [
        "# Show video. This may not work in some setups. If it doesn't\n",
        "# work for you, you can download the videos and view them locally.\n",
        "\n",
        "from pathlib import Path\n",
        "from base64 import b64encode\n",
        "from IPython.display import HTML\n",
        "\n",
        "video_paths = sorted([s for s in Path('videos').iterdir() if s.suffix == '.mp4'])\n",
        "video_path = video_paths[-1]  # You can also try other indices\n",
        "\n",
        "if 'google.colab' in sys.modules:\n",
        "    # https://stackoverflow.com/a/57378660/1214547\n",
        "    with video_path.open('rb') as fp:\n",
        "        mp4 = fp.read()\n",
        "    data_url = 'data:video/mp4;base64,' + b64encode(mp4).decode()\n",
        "else:\n",
        "    data_url = str(video_path)\n",
        "\n",
        "HTML(\"\"\"\n",
        "<video width=\"640\" height=\"480\" controls>\n",
        "  <source src=\"{}\" type=\"video/mp4\">\n",
        "</video>\n",
        "\"\"\".format(data_url))"
      ]
    }
  ],
  "metadata": {
    "kernelspec": {
      "display_name": "Python 3 (ipykernel)",
      "language": "python",
      "name": "python3"
    },
    "language_info": {
      "codemirror_mode": {
        "name": "ipython",
        "version": 3
      },
      "file_extension": ".py",
      "mimetype": "text/x-python",
      "name": "python",
      "nbconvert_exporter": "python",
      "pygments_lexer": "ipython3",
      "version": "3.9.16"
    },
    "colab": {
      "provenance": []
    }
  },
  "nbformat": 4,
  "nbformat_minor": 0
}